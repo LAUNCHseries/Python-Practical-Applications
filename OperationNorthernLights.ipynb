{
 "cells": [
  {
   "cell_type": "markdown",
   "metadata": {},
   "source": [
    "# LAUNCH Series: Python – Practical Applications"
   ]
  },
  {
   "cell_type": "code",
   "execution_count": 33,
   "metadata": {},
   "outputs": [
    {
     "data": {
      "text/html": [
       "<style>.container { width:100% !important; }</style>"
      ],
      "text/plain": [
       "<IPython.core.display.HTML object>"
      ]
     },
     "metadata": {},
     "output_type": "display_data"
    }
   ],
   "source": [
    "from IPython.core.display import display, HTML\n",
    "display(HTML(\"<style>.container { width:100% !important; }</style>\"))\n",
    "import datetime\n",
    "startDT = datetime.datetime.now()"
   ]
  },
  {
   "cell_type": "code",
   "execution_count": 34,
   "metadata": {},
   "outputs": [
    {
     "name": "stdout",
     "output_type": "stream",
     "text": [
      "C:\\Users\\dl11114\\Desktop\\LAUNCHseries\n"
     ]
    }
   ],
   "source": [
    "import os\n",
    "import shutil\n",
    "\n",
    "print(os.getcwd())"
   ]
  },
  {
   "cell_type": "code",
   "execution_count": 35,
   "metadata": {},
   "outputs": [
    {
     "name": "stdout",
     "output_type": "stream",
     "text": [
      "dl11114\n"
     ]
    }
   ],
   "source": [
    "userId = 'dl11114' # type your user ID between the single quotes\n",
    "print(userId)"
   ]
  },
  {
   "cell_type": "code",
   "execution_count": 36,
   "metadata": {},
   "outputs": [],
   "source": [
    "os.chdir('C:/Users/' + userId + '/Desktop/LAUNCHseries')"
   ]
  },
  {
   "cell_type": "code",
   "execution_count": 37,
   "metadata": {},
   "outputs": [],
   "source": [
    "if not os.path.exists('C:/Users/' + userId + '/Desktop/LAUNCHseries'):\n",
    "    os.makedirs('C:/Users/' + userId + '/Desktop/LAUNCHseries')"
   ]
  },
  {
   "cell_type": "code",
   "execution_count": 38,
   "metadata": {},
   "outputs": [],
   "source": [
    "os.chdir('C:/Users/' + userId + '/Desktop/LAUNCHseries')"
   ]
  },
  {
   "cell_type": "code",
   "execution_count": 39,
   "metadata": {},
   "outputs": [
    {
     "name": "stdout",
     "output_type": "stream",
     "text": [
      "C:\\Users\\dl11114\\Desktop\\LAUNCHseries\n"
     ]
    }
   ],
   "source": [
    "print(os.getcwd())"
   ]
  },
  {
   "cell_type": "code",
   "execution_count": 40,
   "metadata": {},
   "outputs": [],
   "source": [
    "stringVariable = 'In computer programming, a string is traditionally a sequence of characters, either as a literal constant or as some kind of variable.'"
   ]
  },
  {
   "cell_type": "code",
   "execution_count": 41,
   "metadata": {},
   "outputs": [
    {
     "name": "stdout",
     "output_type": "stream",
     "text": [
      "In computer programming, a string is traditionally a sequence of characters, either as a literal constant or as some kind of variable.\n"
     ]
    }
   ],
   "source": [
    "print(stringVariable)"
   ]
  },
  {
   "cell_type": "code",
   "execution_count": 42,
   "metadata": {},
   "outputs": [],
   "source": [
    "with open(\"StringText.txt\", 'w') as file:\n",
    "            #file.write(\"\\n\")\n",
    "            file.write(stringVariable)\n",
    "            file.close()"
   ]
  },
  {
   "cell_type": "code",
   "execution_count": 43,
   "metadata": {},
   "outputs": [],
   "source": [
    "myList = []"
   ]
  },
  {
   "cell_type": "code",
   "execution_count": 44,
   "metadata": {},
   "outputs": [
    {
     "name": "stdout",
     "output_type": "stream",
     "text": [
      "[]\n"
     ]
    }
   ],
   "source": [
    "print(myList)"
   ]
  },
  {
   "cell_type": "code",
   "execution_count": 45,
   "metadata": {},
   "outputs": [],
   "source": [
    "myList.append(userId)"
   ]
  },
  {
   "cell_type": "code",
   "execution_count": 46,
   "metadata": {},
   "outputs": [
    {
     "name": "stdout",
     "output_type": "stream",
     "text": [
      "['dl11114']\n"
     ]
    }
   ],
   "source": [
    "print(myList)"
   ]
  },
  {
   "cell_type": "code",
   "execution_count": 47,
   "metadata": {},
   "outputs": [],
   "source": [
    "myList.append('thing_1')\n",
    "myList.append('thing_2')"
   ]
  },
  {
   "cell_type": "code",
   "execution_count": 48,
   "metadata": {},
   "outputs": [
    {
     "name": "stdout",
     "output_type": "stream",
     "text": [
      "['dl11114', 'thing_1', 'thing_2']\n"
     ]
    }
   ],
   "source": [
    "print(myList)"
   ]
  },
  {
   "cell_type": "code",
   "execution_count": 49,
   "metadata": {},
   "outputs": [
    {
     "name": "stdout",
     "output_type": "stream",
     "text": [
      "3\n"
     ]
    }
   ],
   "source": [
    "print(len(myList))"
   ]
  },
  {
   "cell_type": "code",
   "execution_count": 50,
   "metadata": {},
   "outputs": [
    {
     "name": "stdout",
     "output_type": "stream",
     "text": [
      "dl11114\n",
      "thing_1\n",
      "thing_2\n"
     ]
    }
   ],
   "source": [
    "for i in range(0, len(myList)):\n",
    "    print(myList[i])"
   ]
  },
  {
   "cell_type": "code",
   "execution_count": 51,
   "metadata": {
    "scrolled": true
   },
   "outputs": [
    {
     "name": "stdout",
     "output_type": "stream",
     "text": [
      "dl11114\n"
     ]
    }
   ],
   "source": [
    "print(myList[0]) # replace \"?\" with the correct index value needed to print your userId"
   ]
  },
  {
   "cell_type": "code",
   "execution_count": 52,
   "metadata": {},
   "outputs": [
    {
     "name": "stdout",
     "output_type": "stream",
     "text": [
      "dl11114\n",
      "thing_1\n",
      "thing_2\n"
     ]
    }
   ],
   "source": [
    "for lst in myList:\n",
    "    print(lst)"
   ]
  },
  {
   "cell_type": "markdown",
   "metadata": {},
   "source": [
    "# Cool, but i hate typing more than is needed, it's muda. How can I avoid more that is absolutely necessary?"
   ]
  },
  {
   "cell_type": "code",
   "execution_count": 53,
   "metadata": {},
   "outputs": [],
   "source": [
    "def myFunction(arg1, arg2, arg3):\n",
    "    var1 = arg1*2\n",
    "    var2 = arg2+2\n",
    "    var3 = arg3/2\n",
    "    return(var1,var2,var3)"
   ]
  },
  {
   "cell_type": "code",
   "execution_count": 54,
   "metadata": {},
   "outputs": [
    {
     "data": {
      "text/plain": [
       "(6, 7, 3.5)"
      ]
     },
     "execution_count": 54,
     "metadata": {},
     "output_type": "execute_result"
    }
   ],
   "source": [
    "myFunction(3,5,7)"
   ]
  },
  {
   "cell_type": "code",
   "execution_count": 55,
   "metadata": {},
   "outputs": [],
   "source": [
    "def myFunction(arg1, arg2, arg3):\n",
    "    var1 = arg1*2\n",
    "    var2 = arg2+2\n",
    "    var3 = arg3/2\n",
    "    print(var1+var2+var3)"
   ]
  },
  {
   "cell_type": "code",
   "execution_count": 56,
   "metadata": {},
   "outputs": [
    {
     "name": "stdout",
     "output_type": "stream",
     "text": [
      "16.5\n"
     ]
    }
   ],
   "source": [
    "myFunction(3,5,7)"
   ]
  },
  {
   "cell_type": "markdown",
   "metadata": {},
   "source": [
    "# Neat, but I can do those things in my head. Show me a practical use for functions!"
   ]
  },
  {
   "cell_type": "code",
   "execution_count": 57,
   "metadata": {},
   "outputs": [],
   "source": [
    "if not os.path.exists('C:/Users/' + userId + '/Desktop/LAUNCHseries/data/inputImg'):\n",
    "    os.makedirs('C:/Users/' + userId + '/Desktop/LAUNCHseries/data/inputImg')"
   ]
  },
  {
   "cell_type": "code",
   "execution_count": 58,
   "metadata": {},
   "outputs": [],
   "source": [
    "if not os.path.exists('C:/Users/' + userId + '/Desktop/LAUNCHseries/data/outputImg'):\n",
    "    os.makedirs('C:/Users/' + userId + '/Desktop/LAUNCHseries/data/outputImg')"
   ]
  },
  {
   "cell_type": "code",
   "execution_count": 59,
   "metadata": {},
   "outputs": [],
   "source": [
    "src = 'data/inputImg'"
   ]
  },
  {
   "cell_type": "code",
   "execution_count": 60,
   "metadata": {},
   "outputs": [],
   "source": [
    "dst = 'data/outputImg'"
   ]
  },
  {
   "cell_type": "markdown",
   "metadata": {},
   "source": [
    "# Follow link provided in Teams chat window and download all images, manually move to 'src' file path, and unzip"
   ]
  },
  {
   "cell_type": "code",
   "execution_count": 61,
   "metadata": {},
   "outputs": [],
   "source": [
    "fileList=[]\n",
    "dirList=[]\n",
    "\n",
    "def copy_all_ext(ext1, ext2, source_root, dest_dir):\n",
    "    # Recursively walk source_root\n",
    "    for (dirpath, dirnames, filenames) in os.walk(source_root):\n",
    "        # Loop through the files in current dirpath\n",
    "        for filename in filenames:\n",
    "            # Check file extension\n",
    "            if (os.path.splitext(filename)[-1] == ext1) or (os.path.splitext(filename)[-1] == ext2):\n",
    "                fileList.append(filename)\n",
    "                dirList.append(dirpath)\n",
    "                print(\"Copying \",dirpath, \"to\" ,filename)\n",
    "                # Uncomment your line of choice to either move or copy file\n",
    "                #shutil.copy(os.path.join(dirpath, filename), os.path.join(dest_dir, filename))\n",
    "                #shutil.move(os.path.join(dirpath, filename), os.path.join(dest_dir, filename))"
   ]
  },
  {
   "cell_type": "code",
   "execution_count": null,
   "metadata": {},
   "outputs": [],
   "source": [
    "copy_all_ext(\".png\", \".jpg\", src, dst)"
   ]
  },
  {
   "cell_type": "code",
   "execution_count": null,
   "metadata": {},
   "outputs": [],
   "source": [
    "import pandas as pd\n",
    "dict = {'fileName': fileList, 'pathName': dirList}\n",
    "df = pd.DataFrame(dict)\n",
    "df.to_csv (r'imgCatalog.csv', index = False, header=True)"
   ]
  }
 ],
 "metadata": {
  "kernelspec": {
   "display_name": "Python 3",
   "language": "python",
   "name": "python3"
  },
  "language_info": {
   "codemirror_mode": {
    "name": "ipython",
    "version": 3
   },
   "file_extension": ".py",
   "mimetype": "text/x-python",
   "name": "python",
   "nbconvert_exporter": "python",
   "pygments_lexer": "ipython3",
   "version": "3.8.2"
  }
 },
 "nbformat": 4,
 "nbformat_minor": 4
}
